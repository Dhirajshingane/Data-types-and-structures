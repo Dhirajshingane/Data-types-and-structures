{
  "nbformat": 4,
  "nbformat_minor": 0,
  "metadata": {
    "colab": {
      "provenance": []
    },
    "kernelspec": {
      "name": "python3",
      "display_name": "Python 3"
    },
    "language_info": {
      "name": "python"
    }
  },
  "cells": [
    {
      "cell_type": "markdown",
      "source": [
        "# Data types and structures"
      ],
      "metadata": {
        "id": "bzTg4kYzYf4e"
      }
    },
    {
      "cell_type": "markdown",
      "source": [
        "**Data types and structures questions**"
      ],
      "metadata": {
        "id": "lktMLDuCYRgx"
      }
    },
    {
      "cell_type": "markdown",
      "source": [
        "1. What are data stuctures, and why they are important?"
      ],
      "metadata": {
        "id": "7T8BQQI3Yigp"
      }
    },
    {
      "cell_type": "markdown",
      "source": [
        "Ans ->\n",
        "\n",
        "Data structures are specialized formats to store and organize data efficiently, such as lists, tuples, sets, and dictionaries in Python.\n",
        "They are important because they:\n",
        "\n",
        "Allow efficient data access and modification.\n",
        "\n",
        "Support code readability and maintainability.\n",
        "\n",
        "Help solve problems in optimized ways (e.g., searching, sorting)"
      ],
      "metadata": {
        "id": "4Wfbscevfsix"
      }
    },
    {
      "cell_type": "markdown",
      "source": [
        "2. Explain the difference between mutable and immutable data types with example."
      ],
      "metadata": {
        "id": "EXJ8fTgVZAdI"
      }
    },
    {
      "cell_type": "code",
      "source": [
        "#Mutable types can be changed after creation. Example: list, dict, set\n",
        "lst = [1, 2, 3]\n",
        "lst[0] = 10  # List is mutable\n",
        "\n",
        "#Immutable types cannot be changed after creation. Example: int, str, tuple\n",
        "s = \"hello\"\n",
        "# s[0] = \"H\" → Error, strings are immutable\n"
      ],
      "metadata": {
        "id": "2ivE__PTgEvI"
      },
      "execution_count": 2,
      "outputs": []
    },
    {
      "cell_type": "markdown",
      "source": [
        "3. What are the main difference between lists and tuples in pythan?\n"
      ],
      "metadata": {
        "id": "URZLw_8QZb9V"
      }
    },
    {
      "cell_type": "markdown",
      "source": [
        "Ans ->\n",
        "\n",
        "| Feature     | List         | Tuple       |\n",
        "| ----------- | ------------ | ----------- |\n",
        "| Mutability  | Mutable      | Immutable   |\n",
        "| Syntax      | `[1, 2, 3]`  | `(1, 2, 3)` |\n",
        "| Performance | Slower       | Faster      |\n",
        "| Use case    | Dynamic data | Static data |\n"
      ],
      "metadata": {
        "id": "1pj3HOr_gaT_"
      }
    },
    {
      "cell_type": "markdown",
      "source": [
        "4. Describe how dictionaires store data?"
      ],
      "metadata": {
        "id": "sLILJcinZqu6"
      }
    },
    {
      "cell_type": "code",
      "source": [
        "#Dictionaries store data as key-value pairs in a hash table. Each key is hashed to a unique index, allowing fast retrieval of values.\n",
        "student = {\"name\": \"Dhiraj\", \"age\": 25}\n"
      ],
      "metadata": {
        "id": "T7CPjphwgryt"
      },
      "execution_count": 3,
      "outputs": []
    },
    {
      "cell_type": "markdown",
      "source": [
        "5. Why might you use a set instead of a list in pythan?\n"
      ],
      "metadata": {
        "id": "4-Gebq8UZ1VD"
      }
    },
    {
      "cell_type": "code",
      "source": [
        "#Sets are used when uniqueness is required; they automatically remove duplicates.\n",
        "\n",
        "#Faster membership testing than lists.\n",
        "s = set([1, 2, 2, 3])  # {1, 2, 3}\n",
        "\n"
      ],
      "metadata": {
        "id": "pIldW37gg35T"
      },
      "execution_count": 4,
      "outputs": []
    },
    {
      "cell_type": "markdown",
      "source": [
        "6. What is string in pythan, and how is it different from a list?\n"
      ],
      "metadata": {
        "id": "qtmPNc3baDvc"
      }
    },
    {
      "cell_type": "code",
      "source": [
        "#A string is an immutable sequence of characters.\n",
        "\n",
        "#A list is a mutable sequence of any data types.\n",
        "\n",
        "s = \"abc\"       # Immutable, only characters\n",
        "l = ['a', 1, 3]  # Mutable, mixed types\n"
      ],
      "metadata": {
        "id": "KeKTLedVhE8_"
      },
      "execution_count": null,
      "outputs": []
    },
    {
      "cell_type": "markdown",
      "source": [
        "7. How do tuples ensure data integrity in pythan?"
      ],
      "metadata": {
        "id": "h41vmVGOaR-r"
      }
    },
    {
      "cell_type": "markdown",
      "source": [
        "Ans ->\n",
        "\n",
        "Since tuples are immutable, their data cannot be modified after creation. This protects the data from accidental changes, ensuring integrity in scenarios like:\n",
        "\n",
        "Keys in a dictionary\n",
        "\n",
        "Fixed configuration values"
      ],
      "metadata": {
        "id": "1rHs9IRvhOWD"
      }
    },
    {
      "cell_type": "markdown",
      "source": [
        "8. What is a hash table, how does it relate to dictionaries in pythan?"
      ],
      "metadata": {
        "id": "SBRE_hJNaeYL"
      }
    },
    {
      "cell_type": "markdown",
      "source": [
        "Ans ->\n",
        "\n",
        "A hash table is a data structure that maps keys to values using a hash function.\n",
        "Python's dict uses a hash table internally to enable fast lookup, insertion, and deletion based on unique keys."
      ],
      "metadata": {
        "id": "VqqY-4hhhS1d"
      }
    },
    {
      "cell_type": "markdown",
      "source": [
        "9. Can list contain different data types in pythan?"
      ],
      "metadata": {
        "id": "22qBfi-Wasgm"
      }
    },
    {
      "cell_type": "code",
      "source": [
        "#Yes, lists are heterogeneous and can contain mixed data types:\n",
        "\n",
        "data = [1, \"hello\", 3.14, True]\n"
      ],
      "metadata": {
        "id": "bTVlOQcphYOV"
      },
      "execution_count": 5,
      "outputs": []
    },
    {
      "cell_type": "markdown",
      "source": [
        "10. Explain why string are immutable in pythan?\n"
      ],
      "metadata": {
        "id": "kBgdGzlnbB1u"
      }
    },
    {
      "cell_type": "markdown",
      "source": [
        "Ans ->\n",
        "\n",
        "Strings are immutable for:\n",
        "\n",
        "Memory efficiency: Multiple references can point to the same string.\n",
        "\n",
        "Security: Prevents unintentional modifications.\n",
        "\n",
        "Hashability: Allows use as dictionary keys."
      ],
      "metadata": {
        "id": "G03I5oIYhe-x"
      }
    },
    {
      "cell_type": "markdown",
      "source": [
        "11. What advantages do dictionaires offer over lists for certain tasks?"
      ],
      "metadata": {
        "id": "UcnN5Wi4YifJ"
      }
    },
    {
      "cell_type": "markdown",
      "source": [
        "Ans ->\n",
        "\n",
        "Dictionaries are ideal when:\n",
        "\n",
        "Data is keyed (e.g., name → value).\n",
        "\n",
        "Fast lookups are needed.\n",
        "\n",
        "Example: Accessing dict[\"name\"] is faster than searching a list for a value."
      ],
      "metadata": {
        "id": "9GaNPL5thkUi"
      }
    },
    {
      "cell_type": "markdown",
      "source": [
        "12. Describe a scenario where using a tuple would be prefareble over a list."
      ],
      "metadata": {
        "id": "V0pwpcAwbgOC"
      }
    },
    {
      "cell_type": "code",
      "source": [
        "\"\"\"Use a tuple when:\n",
        "\n",
        "You want to store constant data, like coordinates (x, y).\n",
        "\n",
        "You need an immutable key in a dictionary:\"\"\"\n",
        "\n",
        "locations = {(10, 20): \"Home\", (50, 60): \"Office\"}\n"
      ],
      "metadata": {
        "id": "w0Td5Llnhorg"
      },
      "execution_count": 6,
      "outputs": []
    },
    {
      "cell_type": "markdown",
      "source": [
        "13. How do sets handle duplicate values in pythan?"
      ],
      "metadata": {
        "id": "6-401su0b7cA"
      }
    },
    {
      "cell_type": "code",
      "source": [
        "#Sets automatically remove duplicate values. When duplicate elements are added to a set, only one instance is kept.\n",
        "\n",
        "s = set([1, 2, 2, 3, 3])\n",
        "print(s)  #\n"
      ],
      "metadata": {
        "colab": {
          "base_uri": "https://localhost:8080/"
        },
        "id": "I4rI7DIsiMCt",
        "outputId": "bac3be5b-e409-4725-fda7-7f9a18fb86ec"
      },
      "execution_count": 17,
      "outputs": [
        {
          "output_type": "stream",
          "name": "stdout",
          "text": [
            "{1, 2, 3}\n"
          ]
        }
      ]
    },
    {
      "cell_type": "markdown",
      "source": [
        "14. How does the \"in\" keyword work differntly for lists and dictionaires?"
      ],
      "metadata": {
        "id": "iIuVJEkUcNJm"
      }
    },
    {
      "cell_type": "code",
      "source": [
        "#In lists: Checks if the element exists in the list.\n",
        "\n",
        "3 in [1, 2, 3]  # True\n",
        "\n",
        "\n",
        "#In dictionaries: Checks if the key exists in the dictionary.\n",
        "\n",
        "'name' in {\"name\": \"Dhiraj\"}  # True\n",
        "'Dhiraj' in {\"name\": \"Dhiraj\"}  # False\n"
      ],
      "metadata": {
        "colab": {
          "base_uri": "https://localhost:8080/"
        },
        "id": "K4WlTujMiVT_",
        "outputId": "c5f776ce-cb53-417a-d166-211a32a30696"
      },
      "execution_count": 8,
      "outputs": [
        {
          "output_type": "execute_result",
          "data": {
            "text/plain": [
              "False"
            ]
          },
          "metadata": {},
          "execution_count": 8
        }
      ]
    },
    {
      "cell_type": "markdown",
      "source": [
        "15. Can you modify the elements of a tuple? Explain why and why not."
      ],
      "metadata": {
        "id": "ZzK67BQBceIW"
      }
    },
    {
      "cell_type": "code",
      "source": [
        "#No, tuples are immutable. Once created, their elements cannot be changed.\n",
        "\n",
        "\n",
        "t = (1, 2, 3)\n",
        "# t[0] = 5  → Error: 'tuple' object does not support item assignment\n"
      ],
      "metadata": {
        "id": "TW_GxPHtiiV4"
      },
      "execution_count": 11,
      "outputs": []
    },
    {
      "cell_type": "markdown",
      "source": [
        "16. What is nested dictionary, and give an example of its use case?"
      ],
      "metadata": {
        "id": "FNrx_yrwctKG"
      }
    },
    {
      "cell_type": "code",
      "source": [
        "#A nested dictionary is a dictionary where values are also dictionaries. It allows hierarchical or grouped data.\n",
        "#Example use case:\n",
        "\n",
        "students = {\n",
        "    \"101\": {\"name\": \"Dhiraj\", \"age\": 21},\n",
        "    \"102\": {\"name\": \"Priya\", \"age\": 22}\n",
        "}\n"
      ],
      "metadata": {
        "id": "FG9FZBw2it1R"
      },
      "execution_count": 13,
      "outputs": []
    },
    {
      "cell_type": "markdown",
      "source": [
        "17. Describe the time complexity of accessing elements in a dictionary."
      ],
      "metadata": {
        "id": "5p_RMHxVc9Uv"
      }
    },
    {
      "cell_type": "markdown",
      "source": [
        "Ans ->\n",
        "\n",
        "Average-case time complexity:\n",
        "\n",
        "O(1) (constant time) for accessing, inserting, or deleting by key due to the hash table implementation.\n",
        "Worst-case (rare): O(n) if many hash collisions occur."
      ],
      "metadata": {
        "id": "VtWz6R4ii3mj"
      }
    },
    {
      "cell_type": "markdown",
      "source": [
        "18. In what situations are lists preferred over dictionaires?"
      ],
      "metadata": {
        "id": "ZLq7FxMrdM_H"
      }
    },
    {
      "cell_type": "markdown",
      "source": [
        "Ans ->\n",
        "\n",
        "Use lists when:\n",
        "\n",
        "Order of elements matters.\n",
        "\n",
        "Data is not associated with unique keys.\n",
        "\n",
        "You need indexed access by position.\n",
        "\n",
        "Example: storing student scores: [89, 92, 78]"
      ],
      "metadata": {
        "id": "SO591NcLi8AY"
      }
    },
    {
      "cell_type": "markdown",
      "source": [
        "19. Why are dictionaires considered unorderd, and how does that affect data retrival?"
      ],
      "metadata": {
        "id": "mnyKqisVdbFd"
      }
    },
    {
      "cell_type": "markdown",
      "source": [
        "Ans ->\n",
        "\n",
        "Prior to Python 3.7, dictionaries were unordered, meaning the order of key-value pairs wasn’t guaranteed.\n",
        "Since Python 3.7+, insertion order is preserved, but:\n",
        "\n",
        "They are still key-based, not index-based.\n",
        "\n",
        "You can't access items by position like in lists.\n",
        "\n",
        "This affects retrieval because you access data by key, not by index."
      ],
      "metadata": {
        "id": "YXwLZ8qRi_25"
      }
    },
    {
      "cell_type": "markdown",
      "source": [
        "20. Explain the difference between a list and a dictionary in terns of data retrival."
      ],
      "metadata": {
        "id": "6Vbw-gYjd8Ti"
      }
    },
    {
      "cell_type": "code",
      "source": [
        "#List: Data is retrieved by index (numeric position).\n",
        "\n",
        "my_list = [10, 20, 30]\n",
        "print(my_list[1])\n"
      ],
      "metadata": {
        "colab": {
          "base_uri": "https://localhost:8080/"
        },
        "id": "2abnlqpjjF0S",
        "outputId": "3c9cd67c-4577-45e1-e5ec-e72fcfe593f9"
      },
      "execution_count": 15,
      "outputs": [
        {
          "output_type": "stream",
          "name": "stdout",
          "text": [
            "20\n"
          ]
        }
      ]
    },
    {
      "cell_type": "code",
      "source": [
        "#Dictionary: Data is retrieved by key (named identifier).\n",
        "\n",
        "my_dict = {\"a\": 10, \"b\": 20}\n",
        "print(my_dict[\"b\"])"
      ],
      "metadata": {
        "colab": {
          "base_uri": "https://localhost:8080/"
        },
        "id": "v57mBJpjjKSC",
        "outputId": "65ab4fd7-d750-4dc8-89d1-e988ed552c47"
      },
      "execution_count": 16,
      "outputs": [
        {
          "output_type": "stream",
          "name": "stdout",
          "text": [
            "20\n"
          ]
        }
      ]
    },
    {
      "cell_type": "markdown",
      "source": [
        "Summary:\n",
        "\n",
        "Lists = ordered, index-based\n",
        "\n",
        "Dictionaries = unordered (pre-3.7), key-based"
      ],
      "metadata": {
        "id": "Xr-r_tlCjgaI"
      }
    },
    {
      "cell_type": "markdown",
      "source": [
        "\n",
        "\n",
        "---\n",
        "\n",
        "# ***Practical Questions*** ▶\n",
        "\n",
        "\n",
        "\n",
        "---\n",
        "\n",
        ":"
      ],
      "metadata": {
        "id": "q-VCW5ZDkEts"
      }
    },
    {
      "cell_type": "markdown",
      "source": [
        "1. Write a code to create a string with your name and print it"
      ],
      "metadata": {
        "id": "WutU3Wn7kUhh"
      }
    },
    {
      "cell_type": "code",
      "source": [
        "name = \"Dhiraj\"\n",
        "print(name)"
      ],
      "metadata": {
        "colab": {
          "base_uri": "https://localhost:8080/"
        },
        "id": "13mdKtUkk2FO",
        "outputId": "cef92fa7-ae2e-4104-c978-0d4e33f152a8"
      },
      "execution_count": 20,
      "outputs": [
        {
          "output_type": "stream",
          "name": "stdout",
          "text": [
            "Dhiraj\n"
          ]
        }
      ]
    },
    {
      "cell_type": "markdown",
      "source": [
        "2. Write a code to find the length of the string \"Hello World\"."
      ],
      "metadata": {
        "id": "lnTE4KYckXch"
      }
    },
    {
      "cell_type": "code",
      "source": [
        "p = \"Hello world\"\n",
        "print(len(p))"
      ],
      "metadata": {
        "colab": {
          "base_uri": "https://localhost:8080/"
        },
        "id": "fgfvglXvlPvc",
        "outputId": "dbcd946b-c36d-4b34-fcda-475611f8838e"
      },
      "execution_count": 22,
      "outputs": [
        {
          "output_type": "stream",
          "name": "stdout",
          "text": [
            "11\n"
          ]
        }
      ]
    },
    {
      "cell_type": "markdown",
      "source": [
        "3. Write a code to slice the first 3 characters from the string \"Python Programming"
      ],
      "metadata": {
        "id": "_M5GB5QhkZL-"
      }
    },
    {
      "cell_type": "code",
      "source": [
        "text = \"Python Programming\"\n",
        "print(text[:3])"
      ],
      "metadata": {
        "colab": {
          "base_uri": "https://localhost:8080/"
        },
        "id": "4DmKQZssl9MW",
        "outputId": "27bdd907-6483-402a-e793-e2e9df43f6a2"
      },
      "execution_count": 23,
      "outputs": [
        {
          "output_type": "stream",
          "name": "stdout",
          "text": [
            "Pyt\n"
          ]
        }
      ]
    },
    {
      "cell_type": "markdown",
      "source": [
        "4. Write a code to convert the string \"hello\" to uppercase."
      ],
      "metadata": {
        "id": "Q4iwe0oLkbJP"
      }
    },
    {
      "cell_type": "code",
      "source": [
        "text = \"hello\"\n",
        "print(text.upper())"
      ],
      "metadata": {
        "colab": {
          "base_uri": "https://localhost:8080/"
        },
        "id": "453oygMjmD0l",
        "outputId": "959d702a-e0df-4116-db6a-8079cd3682c6"
      },
      "execution_count": 24,
      "outputs": [
        {
          "output_type": "stream",
          "name": "stdout",
          "text": [
            "HELLO\n"
          ]
        }
      ]
    },
    {
      "cell_type": "markdown",
      "source": [
        "5. Write a code to replace the word \"apple\" with \"orange\" in the string \"I like apple\"."
      ],
      "metadata": {
        "id": "zHF1xHJHkdYf"
      }
    },
    {
      "cell_type": "code",
      "source": [
        "fruit = \"I like apple\"\n",
        "print(fruit.replace(\"apple\", \"orange\"))"
      ],
      "metadata": {
        "colab": {
          "base_uri": "https://localhost:8080/"
        },
        "id": "guOqZMx8mNO7",
        "outputId": "a1f62fa1-f118-41f6-8e43-166a18d851f9"
      },
      "execution_count": 25,
      "outputs": [
        {
          "output_type": "stream",
          "name": "stdout",
          "text": [
            "I like orange\n"
          ]
        }
      ]
    },
    {
      "cell_type": "markdown",
      "source": [
        "6. Write a code to create a list with numbers 1 to 5 and print it."
      ],
      "metadata": {
        "id": "koHqHaWrkfSg"
      }
    },
    {
      "cell_type": "code",
      "source": [
        "list = [1, 2, 3, 4, 5]\n",
        "print(list)"
      ],
      "metadata": {
        "colab": {
          "base_uri": "https://localhost:8080/"
        },
        "id": "U3PHoihfmXeJ",
        "outputId": "e93aef7d-e482-4bf4-d154-0a3a8b26587d"
      },
      "execution_count": 26,
      "outputs": [
        {
          "output_type": "stream",
          "name": "stdout",
          "text": [
            "[1, 2, 3, 4, 5]\n"
          ]
        }
      ]
    },
    {
      "cell_type": "markdown",
      "source": [
        "7. Write a code to append the number 10 to the list (1, 2, 3, 4)."
      ],
      "metadata": {
        "id": "hZZrpw2Hkgy-"
      }
    },
    {
      "cell_type": "code",
      "source": [
        "code = [1, 2, 3, 4]\n",
        "code.append(10)\n",
        "print(code)"
      ],
      "metadata": {
        "colab": {
          "base_uri": "https://localhost:8080/"
        },
        "id": "LN01k-xUmk3d",
        "outputId": "ccbba46f-9425-43d5-f0d5-79a8ff8643b5"
      },
      "execution_count": 27,
      "outputs": [
        {
          "output_type": "stream",
          "name": "stdout",
          "text": [
            "[1, 2, 3, 4, 10]\n"
          ]
        }
      ]
    },
    {
      "cell_type": "markdown",
      "source": [
        "8. Write a code to remove the number 3 from the list (1, 2, 3, 4, 5)"
      ],
      "metadata": {
        "id": "SWsJCx6kknGt"
      }
    },
    {
      "cell_type": "code",
      "source": [
        "code = [1, 2, 3, 4, 5]\n",
        "code.remove(3)\n",
        "print(code)"
      ],
      "metadata": {
        "colab": {
          "base_uri": "https://localhost:8080/"
        },
        "id": "CQm-U98YmsXb",
        "outputId": "07f2e239-66dd-4eac-f8ee-68b731952570"
      },
      "execution_count": 28,
      "outputs": [
        {
          "output_type": "stream",
          "name": "stdout",
          "text": [
            "[1, 2, 4, 5]\n"
          ]
        }
      ]
    },
    {
      "cell_type": "markdown",
      "source": [
        "9. Write a code to access the second element in the list ['a', 'b', 'c', 'd']."
      ],
      "metadata": {
        "id": "Q0INOh1TkqI5"
      }
    },
    {
      "cell_type": "code",
      "source": [
        "code = ['a', 'b', 'c', 'd']\n",
        "print(code[1])"
      ],
      "metadata": {
        "colab": {
          "base_uri": "https://localhost:8080/"
        },
        "id": "ZZxZKz0nmwOC",
        "outputId": "75f5a5c6-25e2-4e47-da49-64a3faeffc94"
      },
      "execution_count": 29,
      "outputs": [
        {
          "output_type": "stream",
          "name": "stdout",
          "text": [
            "b\n"
          ]
        }
      ]
    },
    {
      "cell_type": "markdown",
      "source": [
        "10. Write a code to reverse the list (10, 20, 30, 40, 50)."
      ],
      "metadata": {
        "id": "kog_fmSpkinc"
      }
    },
    {
      "cell_type": "code",
      "source": [
        "list1 = (10,20,30,40,50)\n",
        "reversed_list1 = tuple(reversed(list1))\n",
        "print(reversed_list1)"
      ],
      "metadata": {
        "colab": {
          "base_uri": "https://localhost:8080/"
        },
        "id": "CRFgaHb7m2O7",
        "outputId": "14afe665-62c9-445f-e1cb-9f0d670ceccd"
      },
      "execution_count": 31,
      "outputs": [
        {
          "output_type": "stream",
          "name": "stdout",
          "text": [
            "(50, 40, 30, 20, 10)\n"
          ]
        }
      ]
    },
    {
      "cell_type": "markdown",
      "source": [
        "11. Write a code to create a tuple with the elements 100, 200, 300 and print it."
      ],
      "metadata": {
        "id": "8IV3SOdIsH5l"
      }
    },
    {
      "cell_type": "code",
      "source": [
        "s = (100, 200, 300)\n",
        "print(s)"
      ],
      "metadata": {
        "colab": {
          "base_uri": "https://localhost:8080/"
        },
        "id": "ZdPLBzCNs7lN",
        "outputId": "83749bbf-e33c-40ba-d70e-e33b137fcd3c"
      },
      "execution_count": 32,
      "outputs": [
        {
          "output_type": "stream",
          "name": "stdout",
          "text": [
            "(100, 200, 300)\n"
          ]
        }
      ]
    },
    {
      "cell_type": "markdown",
      "source": [
        "12. Write a code to access the second-to-last element of the tuple ('red', 'green', 'blue', 'yellow')."
      ],
      "metadata": {
        "id": "CnKJWMr8sLPa"
      }
    },
    {
      "cell_type": "code",
      "source": [
        "s = ('red', 'green', 'blue', 'yellow')\n",
        "print(s[-2])"
      ],
      "metadata": {
        "colab": {
          "base_uri": "https://localhost:8080/"
        },
        "id": "9iHWi0rotH6w",
        "outputId": "60baa577-2d32-4672-8764-7b4b0afe55f2"
      },
      "execution_count": 33,
      "outputs": [
        {
          "output_type": "stream",
          "name": "stdout",
          "text": [
            "blue\n"
          ]
        }
      ]
    },
    {
      "cell_type": "markdown",
      "source": [
        "13. Write a code to find the minimum number in the tuple (10, 20, 5, 15)."
      ],
      "metadata": {
        "id": "T6TXdW-rsM0z"
      }
    },
    {
      "cell_type": "code",
      "source": [
        "s = (10, 20, 5, 15)\n",
        "print(min(s))"
      ],
      "metadata": {
        "colab": {
          "base_uri": "https://localhost:8080/"
        },
        "id": "wIU1GfpltMan",
        "outputId": "19ca62c8-39c6-453b-b930-4a8882eccb5f"
      },
      "execution_count": 34,
      "outputs": [
        {
          "output_type": "stream",
          "name": "stdout",
          "text": [
            "5\n"
          ]
        }
      ]
    },
    {
      "cell_type": "markdown",
      "source": [
        "\n",
        "14. Write a code to find the index of the element \"cat\" in the tuple ('dog', 'cat', 'rabbit')."
      ],
      "metadata": {
        "id": "fUIwV2NysOqx"
      }
    },
    {
      "cell_type": "code",
      "source": [
        "s = ('dog', 'cat', 'rabbit')\n",
        "print(s.index('cat'))"
      ],
      "metadata": {
        "colab": {
          "base_uri": "https://localhost:8080/"
        },
        "id": "vB3kuG65tOw3",
        "outputId": "865346f8-b39b-4af1-f084-2e8cb25e23ec"
      },
      "execution_count": 35,
      "outputs": [
        {
          "output_type": "stream",
          "name": "stdout",
          "text": [
            "1\n"
          ]
        }
      ]
    },
    {
      "cell_type": "markdown",
      "source": [
        "15. Write a code to create a tuple containing three different fruits and check if \"kiwi\" is in it"
      ],
      "metadata": {
        "id": "AN-bdPUksQnK"
      }
    },
    {
      "cell_type": "code",
      "source": [
        "p = (\"apple\", \"banana\", \"orange\")\n",
        "print(\"kiwi\" in p)"
      ],
      "metadata": {
        "colab": {
          "base_uri": "https://localhost:8080/"
        },
        "id": "L4Fnrw64tSBY",
        "outputId": "efc327e9-52f6-46b1-a1d8-b05d73438e33"
      },
      "execution_count": 36,
      "outputs": [
        {
          "output_type": "stream",
          "name": "stdout",
          "text": [
            "False\n"
          ]
        }
      ]
    },
    {
      "cell_type": "markdown",
      "source": [
        "16. Write a code to create a set with the elements 'a', 'b', 'c' and print it"
      ],
      "metadata": {
        "id": "R27g5lVHsSuJ"
      }
    },
    {
      "cell_type": "code",
      "source": [
        "p = {'a', 'b', 'c'}\n",
        "print(p)"
      ],
      "metadata": {
        "colab": {
          "base_uri": "https://localhost:8080/"
        },
        "id": "toLMWukmtUok",
        "outputId": "2f441b8b-876a-4f86-d3e0-fab8685047cf"
      },
      "execution_count": 37,
      "outputs": [
        {
          "output_type": "stream",
          "name": "stdout",
          "text": [
            "{'c', 'a', 'b'}\n"
          ]
        }
      ]
    },
    {
      "cell_type": "markdown",
      "source": [
        "17. Write a code to clear all elements from the set (1, 2, 3,4,5)."
      ],
      "metadata": {
        "id": "HIe6vrp7sW4H"
      }
    },
    {
      "cell_type": "code",
      "source": [
        "p = {1, 2, 3, 4, 5}\n",
        "p.clear()\n",
        "print(p)"
      ],
      "metadata": {
        "colab": {
          "base_uri": "https://localhost:8080/"
        },
        "id": "IKy-n_5LtXS_",
        "outputId": "0476450b-b91e-4fa2-8ffe-8434e5a15ebd"
      },
      "execution_count": 38,
      "outputs": [
        {
          "output_type": "stream",
          "name": "stdout",
          "text": [
            "set()\n"
          ]
        }
      ]
    },
    {
      "cell_type": "markdown",
      "source": [
        "\n",
        "18. Write a code to remove the element 4 from the set (1, 2, 3, 4)."
      ],
      "metadata": {
        "id": "1eskVbGFsZAi"
      }
    },
    {
      "cell_type": "code",
      "source": [
        "p = {1, 2, 3, 4}\n",
        "p.remove(4)\n",
        "print(p)"
      ],
      "metadata": {
        "colab": {
          "base_uri": "https://localhost:8080/"
        },
        "id": "rP0Q_rVXtaa5",
        "outputId": "df701ee3-ddbf-42eb-aeb0-ddd90eca1ed8"
      },
      "execution_count": 39,
      "outputs": [
        {
          "output_type": "stream",
          "name": "stdout",
          "text": [
            "{1, 2, 3}\n"
          ]
        }
      ]
    },
    {
      "cell_type": "markdown",
      "source": [
        "\n",
        "19. Write a code to find the union of two sets (1, 2, 3) and (3, 4, 5)."
      ],
      "metadata": {
        "id": "MuVNq73asa0R"
      }
    },
    {
      "cell_type": "code",
      "source": [
        "s = {1, 2, 3}\n",
        "s1 = {3, 4, 5}\n",
        "print(s.union(s1))"
      ],
      "metadata": {
        "colab": {
          "base_uri": "https://localhost:8080/"
        },
        "id": "Kk_JFi1Qtcdw",
        "outputId": "7f4f3bb6-9e9d-4332-9e8f-177af7844ed4"
      },
      "execution_count": 40,
      "outputs": [
        {
          "output_type": "stream",
          "name": "stdout",
          "text": [
            "{1, 2, 3, 4, 5}\n"
          ]
        }
      ]
    },
    {
      "cell_type": "markdown",
      "source": [
        "\n",
        "20. Write a code to find the intersection of two sets (1, 2, 3) and (2, 3, 4)."
      ],
      "metadata": {
        "id": "3QXTAs5AsctQ"
      }
    },
    {
      "cell_type": "code",
      "source": [
        "p = {1, 2, 3}\n",
        "p1 = {2, 3, 4}\n",
        "print(p.intersection(p1))"
      ],
      "metadata": {
        "colab": {
          "base_uri": "https://localhost:8080/"
        },
        "id": "j2Vo2_LTtf2n",
        "outputId": "8635b296-5855-49f2-d1ce-4ee70e5b35da"
      },
      "execution_count": 41,
      "outputs": [
        {
          "output_type": "stream",
          "name": "stdout",
          "text": [
            "{2, 3}\n"
          ]
        }
      ]
    },
    {
      "cell_type": "markdown",
      "source": [
        "21. Write a code to create a dictionary with the keys 'name\", \"age\", and \"city\", and print it."
      ],
      "metadata": {
        "id": "j7KxsXEhse5c"
      }
    },
    {
      "cell_type": "code",
      "source": [
        "p = {'name': 'Dhiraj', 'age': 21, 'city': 'Mumbai'}\n",
        "print(p)"
      ],
      "metadata": {
        "colab": {
          "base_uri": "https://localhost:8080/"
        },
        "id": "tL1st1QltiG1",
        "outputId": "d3cfbe39-a25a-4bd3-cb66-f7975c9bcd16"
      },
      "execution_count": 42,
      "outputs": [
        {
          "output_type": "stream",
          "name": "stdout",
          "text": [
            "{'name': 'Dhiraj', 'age': 21, 'city': 'Mumbai'}\n"
          ]
        }
      ]
    },
    {
      "cell_type": "markdown",
      "source": [
        "22. Write a code to add a new key-value pair \"country\" \"USA\" to the dictionary ['name': John', 'age: 25]."
      ],
      "metadata": {
        "id": "F2dvqbjtsg5u"
      }
    },
    {
      "cell_type": "code",
      "source": [
        "p = {'name': 'John', 'age': 25}\n",
        "p['country'] = 'USA'\n",
        "print(p)\n"
      ],
      "metadata": {
        "colab": {
          "base_uri": "https://localhost:8080/"
        },
        "id": "yDgS71t-toBP",
        "outputId": "c5c2fa2d-4c3a-417d-f44f-5437518e14b6"
      },
      "execution_count": 43,
      "outputs": [
        {
          "output_type": "stream",
          "name": "stdout",
          "text": [
            "{'name': 'John', 'age': 25, 'country': 'USA'}\n"
          ]
        }
      ]
    },
    {
      "cell_type": "markdown",
      "source": [
        "23. Write a code to access the value associated with the key 'name' in the dictionary ('name': 'Alice', 'age': 30)."
      ],
      "metadata": {
        "id": "k5hS3s0Bsl4f"
      }
    },
    {
      "cell_type": "code",
      "source": [
        "s = {'name': 'Alice', 'age': 30}\n",
        "print(s['name'])"
      ],
      "metadata": {
        "colab": {
          "base_uri": "https://localhost:8080/"
        },
        "id": "As6xBJ_2tq2S",
        "outputId": "7d2947f1-7504-4f06-fae0-d2d501e54b51"
      },
      "execution_count": 44,
      "outputs": [
        {
          "output_type": "stream",
          "name": "stdout",
          "text": [
            "Alice\n"
          ]
        }
      ]
    },
    {
      "cell_type": "markdown",
      "source": [
        "24. Write a code to remove the key \"age\" from the dictionary ('name': 'Bob', 'age': 22, 'city: New York')."
      ],
      "metadata": {
        "id": "Qhg7hDUasnzS"
      }
    },
    {
      "cell_type": "code",
      "source": [
        "a = {'name': 'Bob', 'age': 22, 'city': 'New York'}\n",
        "del a['age']\n",
        "print(a)\n"
      ],
      "metadata": {
        "colab": {
          "base_uri": "https://localhost:8080/"
        },
        "id": "471Hqs1bttYd",
        "outputId": "c0d3751b-7b7e-4ada-a700-e65af78cc5fc"
      },
      "execution_count": 45,
      "outputs": [
        {
          "output_type": "stream",
          "name": "stdout",
          "text": [
            "{'name': 'Bob', 'city': 'New York'}\n"
          ]
        }
      ]
    },
    {
      "cell_type": "markdown",
      "source": [
        "25. Write a code to check if the key \"city\" exists in the dictionary ['name': 'Alice', 'city: Paris']."
      ],
      "metadata": {
        "id": "VmG2B9amsp4a"
      }
    },
    {
      "cell_type": "code",
      "source": [
        "a = {'name': 'Alice', 'city': 'Paris'}\n",
        "print('city' in a)"
      ],
      "metadata": {
        "colab": {
          "base_uri": "https://localhost:8080/"
        },
        "id": "XJ4o1kkstvdL",
        "outputId": "a66cbd46-7349-496d-8133-a322dff4f381"
      },
      "execution_count": 46,
      "outputs": [
        {
          "output_type": "stream",
          "name": "stdout",
          "text": [
            "True\n"
          ]
        }
      ]
    },
    {
      "cell_type": "markdown",
      "source": [
        "\n",
        "26. Write a code to create a list, a tuple, and a dictionary, and print them all."
      ],
      "metadata": {
        "id": "x2ql2gJpstDM"
      }
    },
    {
      "cell_type": "code",
      "source": [
        "a = [1, 2, 3]\n",
        "b = (4, 5, 6)\n",
        "c = {'name': 'Dhiraj', 'age': 21}\n",
        "print(a)\n",
        "print(b)\n",
        "print(c)"
      ],
      "metadata": {
        "colab": {
          "base_uri": "https://localhost:8080/"
        },
        "id": "3zmfpr2Atxev",
        "outputId": "4527b259-5575-4f8a-b195-375655cc4c47"
      },
      "execution_count": 47,
      "outputs": [
        {
          "output_type": "stream",
          "name": "stdout",
          "text": [
            "[1, 2, 3]\n",
            "(4, 5, 6)\n",
            "{'name': 'Dhiraj', 'age': 21}\n"
          ]
        }
      ]
    },
    {
      "cell_type": "markdown",
      "source": [
        "27. Write a code to create a list of 5 random numbers between 1 and 100, sort it in ascending order, and print the result.(replaced)"
      ],
      "metadata": {
        "id": "vwQjDjRksu0l"
      }
    },
    {
      "cell_type": "code",
      "source": [
        "a = [1, 2, 3, 4, 5]\n",
        "a.sort()\n",
        "print(a)"
      ],
      "metadata": {
        "colab": {
          "base_uri": "https://localhost:8080/"
        },
        "id": "BjPhFx88tz7s",
        "outputId": "acebf1ed-67a8-4bfa-d96c-65b09e281dc0"
      },
      "execution_count": 48,
      "outputs": [
        {
          "output_type": "stream",
          "name": "stdout",
          "text": [
            "[1, 2, 3, 4, 5]\n"
          ]
        }
      ]
    },
    {
      "cell_type": "markdown",
      "source": [
        "28. Write a code to create a list with strings and print the element at the third index"
      ],
      "metadata": {
        "id": "v9GBQejtsw7y"
      }
    },
    {
      "cell_type": "code",
      "source": [
        "a = ['a', 'b', 'c', 'd', 'e']\n",
        "print(a[3])"
      ],
      "metadata": {
        "colab": {
          "base_uri": "https://localhost:8080/"
        },
        "id": "ifnYkVaNt1zj",
        "outputId": "d2ebcdce-be3b-447d-af85-07f220a4ed2f"
      },
      "execution_count": 49,
      "outputs": [
        {
          "output_type": "stream",
          "name": "stdout",
          "text": [
            "d\n"
          ]
        }
      ]
    },
    {
      "cell_type": "markdown",
      "source": [
        "29. Write a code to combine two dictionaries into one and print the result.\n"
      ],
      "metadata": {
        "id": "gdukSc3dsyvS"
      }
    },
    {
      "cell_type": "code",
      "source": [
        "a = {'name': 'Dhiraj', 'age': 21}\n",
        "b = {'city': 'Mumbai', 'country': 'India'}\n",
        "a.update(b)\n",
        "print(a)\n"
      ],
      "metadata": {
        "colab": {
          "base_uri": "https://localhost:8080/"
        },
        "id": "ZwxWJYK0t33_",
        "outputId": "dca4087d-2a98-4887-bfa9-c1ba51e506af"
      },
      "execution_count": 50,
      "outputs": [
        {
          "output_type": "stream",
          "name": "stdout",
          "text": [
            "{'name': 'Dhiraj', 'age': 21, 'city': 'Mumbai', 'country': 'India'}\n"
          ]
        }
      ]
    },
    {
      "cell_type": "markdown",
      "source": [
        "30. Write a code to convert a list of strings into a set"
      ],
      "metadata": {
        "id": "CiHaBG9Vs0ZS"
      }
    },
    {
      "cell_type": "code",
      "source": [
        "fruits = [\"apple\", \"banana\", \"apple\", \"cherry\"]\n",
        "unique_fruits = set(fruits)\n",
        "print(unique_fruits)\n"
      ],
      "metadata": {
        "colab": {
          "base_uri": "https://localhost:8080/"
        },
        "id": "wOIqTP2Nt6Jb",
        "outputId": "4b802cea-4b1f-401d-d88c-15189a4f48c2"
      },
      "execution_count": 51,
      "outputs": [
        {
          "output_type": "stream",
          "name": "stdout",
          "text": [
            "{'cherry', 'banana', 'apple'}\n"
          ]
        }
      ]
    }
  ]
}